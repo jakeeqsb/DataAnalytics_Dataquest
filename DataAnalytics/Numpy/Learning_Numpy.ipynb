{
 "cells": [
  {
   "cell_type": "code",
   "execution_count": 2,
   "metadata": {},
   "outputs": [],
   "source": [
    "import numpy as np\n",
    "#Create a vector\n",
    "vector = np.array([10,20,30])\n",
    "#Create a matrix\n",
    "matrix = np.array([[5,10,15],[20,25,30],[35,40,45]])"
   ]
  },
  {
   "cell_type": "code",
   "execution_count": 3,
   "metadata": {},
   "outputs": [
    {
     "name": "stdout",
     "output_type": "stream",
     "text": [
      "(3,)\n",
      "(3, 3)\n"
     ]
    }
   ],
   "source": [
    "vector_shape = vector.shape\n",
    "matrix_shape = matrix.shape\n",
    "\n",
    "print(vector_shape)\n",
    "print(matrix_shape)"
   ]
  },
  {
   "cell_type": "code",
   "execution_count": 4,
   "metadata": {},
   "outputs": [
    {
     "name": "stdout",
     "output_type": "stream",
     "text": [
      "<class 'numpy.ndarray'>\n",
      "[[      nan       nan       nan       nan       nan]\n",
      " [1.986e+03       nan       nan       nan 0.000e+00]\n",
      " [1.986e+03       nan       nan       nan 5.000e-01]\n",
      " ...\n",
      " [1.986e+03       nan       nan       nan 2.540e+00]\n",
      " [1.987e+03       nan       nan       nan 0.000e+00]\n",
      " [1.986e+03       nan       nan       nan 5.150e+00]]\n"
     ]
    }
   ],
   "source": [
    "#Read csv file with genfromtxt()\n",
    "world_alcohol = np.genfromtxt(\"world_alcohol.csv\", delimiter = ',')\n",
    "\n",
    "print(type(world_alcohol))\n",
    "print(world_alcohol)\n"
   ]
  },
  {
   "cell_type": "code",
   "execution_count": 5,
   "metadata": {},
   "outputs": [
    {
     "name": "stdout",
     "output_type": "stream",
     "text": [
      "float64\n"
     ]
    }
   ],
   "source": [
    "print(world_alcohol.dtype) #print the data type of world_alcohol"
   ]
  },
  {
   "cell_type": "code",
   "execution_count": 7,
   "metadata": {},
   "outputs": [
    {
     "name": "stdout",
     "output_type": "stream",
     "text": [
      "[['1986' 'Western Pacific' 'Viet Nam' 'Wine' '0']\n",
      " ['1986' 'Americas' 'Uruguay' 'Other' '0.5']\n",
      " ['1985' 'Africa' \"Cte d'Ivoire\" 'Wine' '1.62']\n",
      " ...\n",
      " ['1986' 'Europe' 'Switzerland' 'Spirits' '2.54']\n",
      " ['1987' 'Western Pacific' 'Papua New Guinea' 'Other' '0']\n",
      " ['1986' 'Africa' 'Swaziland' 'Other' '5.15']]\n"
     ]
    }
   ],
   "source": [
    "#dealing with nan and weird numbers\n",
    "world_alcohol = np.genfromtxt('world_alcohol.csv', delimiter = ',', dtype = 'U75', skip_header = 1)\n",
    "print(world_alcohol)"
   ]
  },
  {
   "cell_type": "code",
   "execution_count": 8,
   "metadata": {},
   "outputs": [
    {
     "name": "stdout",
     "output_type": "stream",
     "text": [
      "0.5\n",
      "Cte d'Ivoire\n",
      "['Viet Nam' 'Uruguay' \"Cte d'Ivoire\" ... 'Switzerland' 'Papua New Guinea'\n",
      " 'Swaziland']\n",
      "['0' '0.5' '1.62' ... '2.54' '0' '5.15']\n",
      "[['1986' 'Western Pacific']\n",
      " ['1986' 'Americas']\n",
      " ['1985' 'Africa']\n",
      " ...\n",
      " ['1986' 'Europe']\n",
      " ['1987' 'Western Pacific']\n",
      " ['1986' 'Africa']]\n",
      "['1986' '1986' '1985' '1986' '1987' '1987' '1987' '1985' '1986' '1984']\n",
      "[['1986' 'Western Pacific' 'Viet Nam' 'Wine' '0']\n",
      " ['1986' 'Americas' 'Uruguay' 'Other' '0.5']\n",
      " ['1985' 'Africa' \"Cte d'Ivoire\" 'Wine' '1.62']\n",
      " ['1986' 'Americas' 'Colombia' 'Beer' '4.27']\n",
      " ['1987' 'Americas' 'Saint Kitts and Nevis' 'Beer' '1.98']\n",
      " ['1987' 'Americas' 'Guatemala' 'Other' '0']\n",
      " ['1987' 'Africa' 'Mauritius' 'Wine' '0.13']\n",
      " ['1985' 'Africa' 'Angola' 'Spirits' '0.39']\n",
      " ['1986' 'Americas' 'Antigua and Barbuda' 'Spirits' '1.55']\n",
      " ['1984' 'Africa' 'Nigeria' 'Other' '6.1']]\n"
     ]
    }
   ],
   "source": [
    "#Indexing and Slicing\n",
    "#row=2, col=5\n",
    "print(world_alcohol[1,4])\n",
    "#row=3, col=3\n",
    "print(world_alcohol[2,2])\n",
    "# : -> all rows | all columns\n",
    "countries = world_alcohol[:,2] # 2nd columns in all rows \n",
    "alcohol_consumption = world_alcohol[:,4] #4th columns in all rows\n",
    "\n",
    "print(countries)\n",
    "print(alcohol_consumption)\n",
    "\n",
    "#first two columns of all rows\n",
    "first_two_columns = world_alcohol[:, 0:2]\n",
    "#first ten columns of all rows\n",
    "first_ten_columns = world_alcohol[0:10, 0]\n",
    "#first ten rows \n",
    "first_ten_rows = world_alcohol[0:10, :]\n",
    "\n",
    "print(first_two_columns)\n",
    "print(first_ten_columns)\n",
    "print(first_ten_rows)\n",
    "\n",
    "\n"
   ]
  },
  {
   "cell_type": "code",
   "execution_count": 9,
   "metadata": {},
   "outputs": [
    {
     "name": "stdout",
     "output_type": "stream",
     "text": [
      "[False False False ... False False False]\n",
      "[False False False ... False False False]\n",
      "[False False False ... False False False]\n",
      "[['1984' 'Africa' 'Algeria' 'Spirits' '0.01']\n",
      " ['1987' 'Africa' 'Algeria' 'Beer' '0.17']\n",
      " ['1987' 'Africa' 'Algeria' 'Spirits' '0.01']\n",
      " ['1986' 'Africa' 'Algeria' 'Wine' '0.1']\n",
      " ['1984' 'Africa' 'Algeria' 'Other' '0']\n",
      " ['1989' 'Africa' 'Algeria' 'Beer' '0.16']\n",
      " ['1989' 'Africa' 'Algeria' 'Spirits' '0.01']\n",
      " ['1989' 'Africa' 'Algeria' 'Wine' '0.23']\n",
      " ['1986' 'Africa' 'Algeria' 'Spirits' '0.01']\n",
      " ['1984' 'Africa' 'Algeria' 'Wine' '0.12']\n",
      " ['1985' 'Africa' 'Algeria' 'Beer' '0.19']\n",
      " ['1985' 'Africa' 'Algeria' 'Other' '0']\n",
      " ['1986' 'Africa' 'Algeria' 'Beer' '0.18']\n",
      " ['1985' 'Africa' 'Algeria' 'Wine' '0.11']\n",
      " ['1986' 'Africa' 'Algeria' 'Other' '0']\n",
      " ['1989' 'Africa' 'Algeria' 'Other' '0']\n",
      " ['1987' 'Africa' 'Algeria' 'Other' '0']\n",
      " ['1984' 'Africa' 'Algeria' 'Beer' '0.2']\n",
      " ['1985' 'Africa' 'Algeria' 'Spirits' '0.01']\n",
      " ['1987' 'Africa' 'Algeria' 'Wine' '0.1']]\n",
      "[['1986' 'Africa' 'Algeria' 'Wine' '0.1']\n",
      " ['1986' 'Africa' 'Algeria' 'Spirits' '0.01']\n",
      " ['1986' 'Africa' 'Algeria' 'Beer' '0.18']\n",
      " ['1986' 'Africa' 'Algeria' 'Other' '0']]\n"
     ]
    }
   ],
   "source": [
    "#A few comptutation\n",
    "\n",
    "#Comparison and boolean array\n",
    "countries_canada = (world_alcohol[:,2] == 'Canada')\n",
    "years_1984 = (world_alcohol[:,0] == '1984')\n",
    "\n",
    "print(countries_canada)\n",
    "print(years_1984)\n",
    "\n",
    "country_is_algeria = (world_alcohol[:,2] == 'Algeria')\n",
    "country_algeria = world_alcohol[country_is_algeria, :]\n",
    "\n",
    "print(country_is_algeria)\n",
    "print(country_algeria)\n",
    "\n",
    "#multiple comaprison\n",
    "is_algeria_and_1986 = (world_alcohol[:,0] == '1986') & (world_alcohol[:,2] == 'Algeria')\n",
    "rows_with_algeria_and_1986 = world_alcohol[is_algeria_and_1986]\n",
    "\n",
    "print(rows_with_algeria_and_1986)\n",
    "\n",
    "#use comparison to replace the values in an array\n",
    "#world_alcohol[:,0][world_alcohol[:,0] == '1986'] = '2014'\n",
    "#world_alcohol[:,3][world_alcohol[:,3] == 'Wine'] = 'Grog'\n",
    "\n",
    "\n",
    "\n"
   ]
  },
  {
   "cell_type": "code",
   "execution_count": 10,
   "metadata": {},
   "outputs": [
    {
     "name": "stdout",
     "output_type": "stream",
     "text": [
      "9.31\n"
     ]
    }
   ],
   "source": [
    "#Dealing with nan for numerical calculation\n",
    "is_value_empty = world_alcohol[:,4] == ''\n",
    "world_alcohol[is_value_empty,4] = '0'\n",
    "\n",
    "#type change\n",
    "alcohol_consumption = world_alcohol[:,4]\n",
    "alcohol_consumption = alcohol_consumption.astype(float)\n",
    "\n",
    "#a few numerial functions \n",
    "#sum(), mean(), max()\n",
    "total_alcohol = alcohol_consumption.sum()\n",
    "average_alcohol = alcohol_consumption.mean()\n",
    "\n",
    "#Exercise\n",
    "is_canada_1986 = (world_alcohol[:,2] == \"Canada\") & (world_alcohol[:,0] == '1986')\n",
    "canada_1986 = world_alcohol[is_canada_1986]\n",
    "canada_alcohol = canada_1986[:,4]\n",
    "empty = canada_alcohol == ''\n",
    "canada_alcohol[empty]='0'\n",
    "\n",
    "canada_alcohol = canada_alcohol.astype(float)\n",
    "total_canadian_drinking = canada_alcohol.sum()\n",
    "\n",
    "print(total_canadian_drinking)\n"
   ]
  },
  {
   "cell_type": "code",
   "execution_count": null,
   "metadata": {},
   "outputs": [],
   "source": []
  }
 ],
 "metadata": {
  "kernelspec": {
   "display_name": "Python 3",
   "language": "python",
   "name": "python3"
  },
  "language_info": {
   "codemirror_mode": {
    "name": "ipython",
    "version": 3
   },
   "file_extension": ".py",
   "mimetype": "text/x-python",
   "name": "python",
   "nbconvert_exporter": "python",
   "pygments_lexer": "ipython3",
   "version": "3.6.1"
  }
 },
 "nbformat": 4,
 "nbformat_minor": 2
}
