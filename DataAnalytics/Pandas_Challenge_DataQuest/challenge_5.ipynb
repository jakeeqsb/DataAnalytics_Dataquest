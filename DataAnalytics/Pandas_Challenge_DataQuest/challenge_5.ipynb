{
 "cells": [
  {
   "cell_type": "code",
   "execution_count": null,
   "metadata": {},
   "outputs": [],
   "source": [
    "# All majors, common to both DataFrames\n",
    "majors = recent_grads['Major'].unique()\n",
    "rg_lower_count = 0\n",
    "\n",
    "for m in majors:\n",
    "    recent_grad_major = recent_grads[recent_grads[\"Major\"] == m]\n",
    "    all_ages_major = all_ages[all_ages[\"Major\"] == m]\n",
    "    \n",
    "    rg_unemp_rate = recent_grad_major.iloc[0][\"Unemployment_rate\"]\n",
    "    aa_unemp_rate = all_ages_major.iloc[0][\"Unemployment_rate\"]\n",
    "    \n",
    "    if rg_unemp_rate < aa_unemp_rate:\n",
    "        rg_lower_count += 1\n",
    "        \n",
    "print(rg_lower_count)"
   ]
  }
 ],
 "metadata": {
  "kernelspec": {
   "display_name": "Python 3",
   "language": "python",
   "name": "python3"
  },
  "language_info": {
   "codemirror_mode": {
    "name": "ipython",
    "version": 3
   },
   "file_extension": ".py",
   "mimetype": "text/x-python",
   "name": "python",
   "nbconvert_exporter": "python",
   "pygments_lexer": "ipython3",
   "version": "3.6.1"
  }
 },
 "nbformat": 4,
 "nbformat_minor": 2
}
