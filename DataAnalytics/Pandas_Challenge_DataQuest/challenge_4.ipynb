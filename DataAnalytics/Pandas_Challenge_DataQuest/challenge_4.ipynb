{
 "cells": [
  {
   "cell_type": "code",
   "execution_count": null,
   "metadata": {},
   "outputs": [],
   "source": [
    "low_wage_percent = 0.0\n",
    "\n",
    "low_wage_sum = recent_grads[\"Low_wage_jobs\"].sum()\n",
    "\n",
    "recent_grad_sum = recent_grads[\"Total\"].sum()\n",
    "\n",
    "low_wage_proportion = low_wage_sum / recent_grad_sum\n",
    "\n",
    "print(low_wage_proportion)"
   ]
  }
 ],
 "metadata": {
  "kernelspec": {
   "display_name": "Python 3",
   "language": "python",
   "name": "python3"
  },
  "language_info": {
   "codemirror_mode": {
    "name": "ipython",
    "version": 3
   },
   "file_extension": ".py",
   "mimetype": "text/x-python",
   "name": "python",
   "nbconvert_exporter": "python",
   "pygments_lexer": "ipython3",
   "version": "3.6.1"
  }
 },
 "nbformat": 4,
 "nbformat_minor": 2
}
