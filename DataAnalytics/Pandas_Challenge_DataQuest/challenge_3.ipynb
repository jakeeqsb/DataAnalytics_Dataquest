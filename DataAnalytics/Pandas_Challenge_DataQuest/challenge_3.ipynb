{
 "cells": [
  {
   "cell_type": "code",
   "execution_count": null,
   "metadata": {},
   "outputs": [],
   "source": [
    "aa_cat_counts = dict()\n",
    "rg_cat_counts = dict()\n",
    "\n",
    "\n",
    "def calculate_major_category(df):\n",
    "    \n",
    "    uniq_list = df[\"Major_category\"].unique()\n",
    "    res_dict = dict()\n",
    "    \n",
    "    for uq in uniq_list:\n",
    "        rws = df[df[\"Major_category\"] == uq]\n",
    "        tot = rws[\"Total\"].sum()\n",
    "        res_dict[uq] = tot\n",
    "    return res_dict\n",
    "        \n",
    "    \n",
    "aa_cat_counts = calculate_major_category(all_ages)\n",
    "rg_cat_counts = calculate_major_categoty(recent_grads)"
   ]
  }
 ],
 "metadata": {
  "kernelspec": {
   "display_name": "Python 3",
   "language": "python",
   "name": "python3"
  },
  "language_info": {
   "codemirror_mode": {
    "name": "ipython",
    "version": 3
   },
   "file_extension": ".py",
   "mimetype": "text/x-python",
   "name": "python",
   "nbconvert_exporter": "python",
   "pygments_lexer": "ipython3",
   "version": "3.6.1"
  }
 },
 "nbformat": 4,
 "nbformat_minor": 2
}
