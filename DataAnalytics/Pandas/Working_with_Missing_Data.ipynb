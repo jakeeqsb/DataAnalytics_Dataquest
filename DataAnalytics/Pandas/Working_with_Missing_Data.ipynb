{
 "cells": [
  {
   "cell_type": "code",
   "execution_count": 2,
   "metadata": {},
   "outputs": [
    {
     "name": "stdout",
     "output_type": "stream",
     "text": [
      "264\n",
      "29.8811345124283\n"
     ]
    }
   ],
   "source": [
    "import pandas as pd\n",
    "titanic_survival = pd.read_csv(\"titanic_survival.csv\")\n",
    "\n",
    "#get age column list\n",
    "age = titanic_survival[\"age\"]\n",
    "\n",
    "#get bool list where the ages with null are represented as true\n",
    "age_is_null = pd.isnull(age)\n",
    "age_null_true = age[age_is_null]\n",
    "age_null_count = len(age_null_true)\n",
    "\n",
    "print(age_null_count)\n",
    "\n",
    "\n",
    "#filter nan values in df\n",
    "age_is_null = pd.isnull(age)\n",
    "age_null_false = titanic_survival[\"age\"][age_is_null == False]\n",
    "\n",
    "correct_mean_age = sum(age_null_false) / len(age_null_false)\n",
    "\n",
    "print(correct_mean_age)\n",
    "\n"
   ]
  },
  {
   "cell_type": "code",
   "execution_count": 4,
   "metadata": {},
   "outputs": [
    {
     "name": "stdout",
     "output_type": "stream",
     "text": [
      "29.8811345124283\n",
      "33.29547928134557\n"
     ]
    }
   ],
   "source": [
    "#mean() gives automatic filtering for nan\n",
    "correct_mean_age = titanic_survival['age'].mean()\n",
    "correct_mean_fare = titanic_survival['fare'].mean()\n",
    "\n",
    "print(correct_mean_age)\n",
    "print(correct_mean_fare)\n",
    "\n"
   ]
  },
  {
   "cell_type": "code",
   "execution_count": 11,
   "metadata": {},
   "outputs": [
    {
     "name": "stdout",
     "output_type": "stream",
     "text": [
      "             fare\n",
      "pclass           \n",
      "1.0     87.508992\n",
      "2.0     21.179196\n",
      "3.0     13.302889\n",
      "        survived\n",
      "pclass          \n",
      "1.0     0.619195\n",
      "2.0     0.429603\n",
      "3.0     0.255289\n",
      "              age\n",
      "pclass           \n",
      "1.0     39.159918\n",
      "2.0     29.506705\n",
      "3.0     24.816367\n"
     ]
    }
   ],
   "source": [
    "#making pivot table\n",
    "#for each class with fare mean\n",
    "passenger_classes = [1,2,3]\n",
    "fares_by_class = dict()\n",
    "\n",
    "for pc in passenger_classes:\n",
    "    pclass_rows = titanic_survival[titanic_survival[\"pclass\"]==pc]\n",
    "    pclass_fare = pclass_rows[\"fare\"]\n",
    "    fare_mean = pclass_fare.mean()\n",
    "    fares_by_class[pc] = fare_mean\n",
    "    \n",
    "import numpy as np\n",
    "#using df.pivot_table()\n",
    "#group and aggregate\n",
    "passenger_class_fares = titanic_survival.pivot_table(index=\"pclass\", values=\"fare\", aggfunc=np.mean)\n",
    "\n",
    "passenger_survival = titanic_survival.pivot_table(index='pclass', values = 'survived')\n",
    "\n",
    "passenger_age = titanic_survival.pivot_table(index='pclass', values = 'age')\n",
    "\n",
    "print(passenger_class_fares)\n",
    "print(passenger_survival)\n",
    "print(passenger_age)"
   ]
  },
  {
   "cell_type": "code",
   "execution_count": 10,
   "metadata": {},
   "outputs": [
    {
     "name": "stdout",
     "output_type": "stream",
     "text": [
      "                fare  survived\n",
      "embarked                      \n",
      "C         16830.7922     150.0\n",
      "Q          1526.3085      44.0\n",
      "S         25033.3862     304.0\n"
     ]
    }
   ],
   "source": [
    "#df.pivot_table() with multiple values\n",
    "port_stats = titanic_survival.pivot_table(index=\"embarked\", values = [\"fare\", \"survived\"], aggfunc=np.sum)\n",
    "print(port_stats)\n",
    "\n"
   ]
  },
  {
   "cell_type": "code",
   "execution_count": 13,
   "metadata": {},
   "outputs": [
    {
     "name": "stdout",
     "output_type": "stream",
     "text": [
      "   pclass  survived                                             name     sex  \\\n",
      "0     1.0       1.0                    Allen, Miss. Elisabeth Walton  female   \n",
      "1     1.0       1.0                   Allison, Master. Hudson Trevor    male   \n",
      "2     1.0       0.0                     Allison, Miss. Helen Loraine  female   \n",
      "3     1.0       0.0             Allison, Mr. Hudson Joshua Creighton    male   \n",
      "4     1.0       0.0  Allison, Mrs. Hudson J C (Bessie Waldo Daniels)  female   \n",
      "\n",
      "       age  sibsp  parch  ticket      fare    cabin embarked boat   body  \\\n",
      "0  29.0000    0.0    0.0   24160  211.3375       B5        S    2    NaN   \n",
      "1   0.9167    1.0    2.0  113781  151.5500  C22 C26        S   11    NaN   \n",
      "2   2.0000    1.0    2.0  113781  151.5500  C22 C26        S  NaN    NaN   \n",
      "3  30.0000    1.0    2.0  113781  151.5500  C22 C26        S  NaN  135.0   \n",
      "4  25.0000    1.0    2.0  113781  151.5500  C22 C26        S  NaN    NaN   \n",
      "\n",
      "                         home.dest  \n",
      "0                     St Louis, MO  \n",
      "1  Montreal, PQ / Chesterville, ON  \n",
      "2  Montreal, PQ / Chesterville, ON  \n",
      "3  Montreal, PQ / Chesterville, ON  \n",
      "4  Montreal, PQ / Chesterville, ON  \n"
     ]
    }
   ],
   "source": [
    "#df.dropna()\n",
    "\n",
    "#axis=0 -> drop rows anything with nan\n",
    "drop_na_rows = titanic_survival.dropna(axis=0)\n",
    "\n",
    "#axis=1 -> drop columns any with nan\n",
    "drop_na_cols = titanic_survival.dropna(axis=1)\n",
    "\n",
    "#multiple columns\n",
    "new_titanic_survival = titanic_survival.dropna(axis=0,subset=[\"age\",'sex'])\n",
    "print(new_titanic_survival.head(5))\n",
    "\n",
    "\n",
    "#iloc[] is not same with loc[]\n",
    "first_five_rows = new_titanic_survival.iloc[0:5]\n",
    "first_ten_rows = new_titanic_survival.iloc[0:10]\n",
    "row_index_25 = new_titanic_survival.iloc[25]\n",
    "row_position_fifth = new_titanic_survival.iloc[4]\n",
    "\n",
    "#comparison between iloc and loc\n",
    "first_r_first_c = new_titanic_survival.iloc[0,0]\n",
    "all_rows_first_three_cols = new_titanic_survival.iloc[:,0:3]\n",
    "row_index_83_age = new_titanic_survival.loc[83,\"age\"]\n",
    "row_index_766_plcass = new_titanic_survival.loc[766,'pclass']\n",
    "\n",
    "row_index_1100_age = new_titanic_survival.loc[1100, \"age\"]\n",
    "row_index_25_survived = new_titanic_survival.loc[25, \"survived\"]\n",
    "five_rows_three_cols = new_titanic_survival.iloc[0:5,0:3]\n",
    "\n",
    "\n",
    "\n"
   ]
  },
  {
   "cell_type": "code",
   "execution_count": null,
   "metadata": {},
   "outputs": [],
   "source": [
    "#new_df.reset_index(drop=true)\n",
    "#titanic_renidexed = new_titanic_survival.reset_index(drop=True)\n"
   ]
  }
 ],
 "metadata": {
  "kernelspec": {
   "display_name": "Python 3",
   "language": "python",
   "name": "python3"
  },
  "language_info": {
   "codemirror_mode": {
    "name": "ipython",
    "version": 3
   },
   "file_extension": ".py",
   "mimetype": "text/x-python",
   "name": "python",
   "nbconvert_exporter": "python",
   "pygments_lexer": "ipython3",
   "version": "3.6.1"
  }
 },
 "nbformat": 4,
 "nbformat_minor": 2
}
